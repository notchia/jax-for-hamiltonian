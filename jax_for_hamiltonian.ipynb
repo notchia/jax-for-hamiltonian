{
  "nbformat": 4,
  "nbformat_minor": 0,
  "metadata": {
    "colab": {
      "name": "Copy of jax_for_hamiltonian.ipynb",
      "provenance": [],
      "collapsed_sections": [],
      "toc_visible": true
    },
    "kernelspec": {
      "name": "python3",
      "display_name": "Python 3"
    }
  },
  "cells": [
    {
      "cell_type": "code",
      "metadata": {
        "id": "PZkO10ct_0Ob"
      },
      "source": [
        "import jax.numpy as jnp\n",
        "import jax.ops as ops\n",
        "from jax import grad, jit, vmap\n",
        "from scipy.integrate import solve_ivp\n",
        "import matplotlib.pyplot as plt"
      ],
      "execution_count": 1,
      "outputs": []
    },
    {
      "cell_type": "markdown",
      "metadata": {
        "id": "QSYmtqGI_5zU"
      },
      "source": [
        "# Learn `jax` basics"
      ]
    },
    {
      "cell_type": "markdown",
      "metadata": {
        "id": "f3MWdWzQIhSN"
      },
      "source": [
        "## Differentiate a built-in function using `grad`:"
      ]
    },
    {
      "cell_type": "code",
      "metadata": {
        "id": "84vZbgqxWCpS",
        "colab": {
          "base_uri": "https://localhost:8080/"
        },
        "outputId": "52696441-8a32-4127-973c-d081fd621757"
      },
      "source": [
        "# Differentiate cosine\n",
        "my_sin = grad(jnp.cos)\n",
        "x = jnp.pi/2\n",
        "y = jnp.cos(x)\n",
        "dydx = my_sin(x)\n",
        "\n",
        "print(f'y = cos(x)\\nfor x = {x:.2f}:')\n",
        "print(f'\\ty = {y:.2f}\\n\\tdydx = {dydx:.2f}')"
      ],
      "execution_count": 2,
      "outputs": [
        {
          "output_type": "stream",
          "name": "stderr",
          "text": [
            "WARNING:absl:No GPU/TPU found, falling back to CPU. (Set TF_CPP_MIN_LOG_LEVEL=0 and rerun for more info.)\n"
          ]
        },
        {
          "output_type": "stream",
          "name": "stdout",
          "text": [
            "y = cos(x)\n",
            "for x = 1.57:\n",
            "\ty = -0.00\n",
            "\tdydx = -1.00\n"
          ]
        }
      ]
    },
    {
      "cell_type": "markdown",
      "metadata": {
        "id": "QRH1mL1zIrET"
      },
      "source": [
        "## Define my own function and differentiate it:"
      ]
    },
    {
      "cell_type": "code",
      "metadata": {
        "colab": {
          "base_uri": "https://localhost:8080/"
        },
        "id": "VDCw9fx8IdOI",
        "outputId": "b783ba86-3d57-4441-95ad-20e79d091bdc"
      },
      "source": [
        "# Differentiate 2nd order polynomial, scalar\n",
        "def my_quad(x, p):\n",
        "  assert len(p) == 3\n",
        "  return p[0] + p[1]*x + p[2]*x**2\n",
        "\n",
        "x = 1.0\n",
        "p = jnp.array([1.0,2.0,3.0])\n",
        "y = my_quad(x,p)\n",
        "my_lin = grad(my_quad)\n",
        "dydx = my_lin(x,p)\n",
        "\n",
        "print(f'quadratic equation, y = p0 + p1*x + p2*x^2\\nfor x = {x:.2f}, p = {p}:')\n",
        "print(f'\\ty = {y:.2f}\\n\\tdydx = {dydx:.2f}')"
      ],
      "execution_count": 3,
      "outputs": [
        {
          "output_type": "stream",
          "name": "stdout",
          "text": [
            "quadratic equation, y = p0 + p1*x + p2*x^2\n",
            "for x = 1.00, p = [1. 2. 3.]:\n",
            "\ty = 6.00\n",
            "\tdydx = 8.00\n"
          ]
        }
      ]
    },
    {
      "cell_type": "markdown",
      "metadata": {
        "id": "Jq4QOItmJF97"
      },
      "source": [
        "## Vectorize my function and its derivative using `vmap`"
      ]
    },
    {
      "cell_type": "code",
      "metadata": {
        "colab": {
          "base_uri": "https://localhost:8080/"
        },
        "id": "PvaOki6hId4d",
        "outputId": "8b0cd9c8-3cf6-497e-bce8-c8b58c760cf6"
      },
      "source": [
        "# Differentiate 2nd order polynomial, vector\n",
        "x_vec = jnp.arange(0.0, 1.2, 0.2)\n",
        "y_vec = vmap(my_quad, in_axes=(0,None))(x_vec, p)\n",
        "dydx_vec = vmap(my_lin, in_axes=(0,None))(x_vec, p)\n",
        "\n",
        "print(f'Using y and p as defined above\\nfor x = {x_vec}:')\n",
        "print(f'\\ty =    {y_vec}')\n",
        "print(f'\\tdydx = {dydx_vec}')"
      ],
      "execution_count": 4,
      "outputs": [
        {
          "output_type": "stream",
          "name": "stdout",
          "text": [
            "Using y and p as defined above\n",
            "for x = [0.  0.2 0.4 0.6 0.8 1. ]:\n",
            "\ty =    [1.        1.52      2.28      3.2800002 4.52      6.       ]\n",
            "\tdydx = [2.        3.2       4.4       5.6000004 6.8       8.       ]\n"
          ]
        }
      ]
    },
    {
      "cell_type": "markdown",
      "metadata": {
        "id": "GxL3hwqFs9_q"
      },
      "source": [
        "# Solve Hamilton's equations over for a simple mass-spring system, using `jax`\n",
        "- $N$ masses of mass $m$ connected by springs with stiffness $k$\n",
        "- Right boundary condition: free ($N-1$ springs) or fixed ($N$ springs)\n"
      ]
    },
    {
      "cell_type": "markdown",
      "metadata": {
        "id": "nu64uFtESIgR"
      },
      "source": [
        "## Define $V$, $T$, $H$ (using `vmap`)"
      ]
    },
    {
      "cell_type": "code",
      "metadata": {
        "id": "aUK1YD9q87An"
      },
      "source": [
        "def V(dx, k):\n",
        "  ''' Potential energy of deformation of spring between masses n and n+1,\n",
        "      with spring constant k and deformation dx = x_n+1 - x_n '''\n",
        "  return 0.5*k*dx**2\n",
        "\n",
        "\n",
        "def T(p, m):\n",
        "  ''' Kinetic energy of mass m with momentum p '''\n",
        "  return 0.5*p**2/m\n",
        "\n",
        "\n",
        "def H(x, p, params):\n",
        "  ''' Given positions x and momentums p, compute Hamiltonian of system with N masses.\n",
        "      Dictionary params includes stiffness k, mass m, and boundary condition BC\n",
        "      defines right edge of chain '''\n",
        "\n",
        "  if params['BC'] == 0: # free\n",
        "    dx = jnp.pad(jnp.diff(x),(0,1),'constant')\n",
        "  elif params['BC'] == 1: #fixed\n",
        "    dx = jnp.diff(jnp.pad(x,(0,1),'constant'))\n",
        "  else:\n",
        "    assert False, 'Specify right boundary condition as 0 (free) or 1 (fixed)'\n",
        "\n",
        "  V_vec = vmap(V, in_axes=(0,None))(dx, params['k'])\n",
        "  T_vec = vmap(T, in_axes=(0,None))(p, params['m'])\n",
        "  H_total = jnp.sum(jnp.add(V_vec, T_vec))\n",
        "\n",
        "  return H_total"
      ],
      "execution_count": 5,
      "outputs": []
    },
    {
      "cell_type": "markdown",
      "metadata": {
        "id": "2-H2D4g7NX38"
      },
      "source": [
        "## Differentiate Hamiltonian and define equations of motion (using `grad`)"
      ]
    },
    {
      "cell_type": "code",
      "metadata": {
        "id": "hIQIhc8wOYVl"
      },
      "source": [
        "dHdx = grad(H, argnums=0)\n",
        "dHdp = grad(H, argnums=1)\n",
        "\n",
        "def eom(t, y, params):\n",
        "  ''' Equations of motion for general 1D Hamiltonian with N units '''\n",
        "\n",
        "  x, p = jnp.split(y, 2, axis=0)\n",
        "  dxdt =  dHdp(x, p, params) # velocity\n",
        "  dpdt = -dHdx(x, p, params) # force\n",
        "  dydt = jnp.concatenate((dxdt,dpdt), axis=0)\n",
        "\n",
        "  return dydt"
      ],
      "execution_count": 6,
      "outputs": []
    },
    {
      "cell_type": "markdown",
      "metadata": {
        "id": "oWtXqSM93tlR"
      },
      "source": [
        "## Set chain length, parameters, and initial conditions"
      ]
    },
    {
      "cell_type": "code",
      "metadata": {
        "id": "QtsJmUTh3spr"
      },
      "source": [
        "def generate_IC_vector(x0, p0, N):\n",
        "  ''' Given inital position x0 and momentum p0 of the leftmost unit of an N-unit\n",
        "      chain, return y0 vector containing initial x and p vectors assuming the\n",
        "      remaining masses are at rest in equilibrium.\n",
        "      \n",
        "      For use in solve_ivp, need y0.shape = (2N,)'''\n",
        "\n",
        "  x = jnp.zeros(N)\n",
        "  p = jnp.zeros(N)\n",
        "  x = ops.index_update(x, 0, x0)\n",
        "  p = ops.index_update(p, 0, p0)\n",
        "  y0 = jnp.concatenate((x,p), axis=0)\n",
        "\n",
        "  return y0"
      ],
      "execution_count": 7,
      "outputs": []
    },
    {
      "cell_type": "code",
      "metadata": {
        "id": "Aj2wQrOhITPb"
      },
      "source": [
        "N = 25 # chain length (number of masses)\n",
        "params = {'k':1, 'm':2, 'BC':1} # {k: spring constant, m: mass, BC: [0|1]}\n",
        "x0 = 0.0 # Initially in equilibrium position\n",
        "p0 = 1.0 # Give initial \"kick\" to left end\n",
        "\n",
        "y0 = generate_IC_vector(x0, p0, N)"
      ],
      "execution_count": 8,
      "outputs": []
    },
    {
      "cell_type": "markdown",
      "metadata": {
        "id": "SVuPTlnn8oiG"
      },
      "source": [
        "## Integrate with `scipy.integrate.solve_ivp`"
      ]
    },
    {
      "cell_type": "code",
      "metadata": {
        "id": "Gne80J5R8vh2"
      },
      "source": [
        "# Set the solver parameters and simulation time\n",
        "tspan = (0.0,100.0)\n",
        "method = 'RK45' # Typical Runge-Kutta method\n",
        "rtol = 1e-8\n",
        "atol = 1e-8"
      ],
      "execution_count": 9,
      "outputs": []
    },
    {
      "cell_type": "code",
      "metadata": {
        "colab": {
          "base_uri": "https://localhost:8080/"
        },
        "id": "3cshICt0OY_i",
        "outputId": "a7b341c6-47a8-43cb-d5be-aa56e2065517"
      },
      "source": [
        "# Solve equations of motion \n",
        "sol = solve_ivp(eom, tspan, y0, method=method, rtol=rtol, atol=atol, args=(params,))\n",
        "\n",
        "print('Solution found over {0} time steps'.format(len(sol.t)))"
      ],
      "execution_count": 10,
      "outputs": [
        {
          "output_type": "stream",
          "name": "stdout",
          "text": [
            "Solution found over 687 time steps\n"
          ]
        }
      ]
    },
    {
      "cell_type": "markdown",
      "metadata": {
        "id": "vKOC1vruOqJN"
      },
      "source": [
        "## Inspect results"
      ]
    },
    {
      "cell_type": "code",
      "metadata": {
        "id": "pasRUmG_RD2l",
        "colab": {
          "base_uri": "https://localhost:8080/",
          "height": 545
        },
        "outputId": "be2a92fe-ebcd-4822-bb6a-88a3449db33f"
      },
      "source": [
        "# Plot displacement of first mass over simulation time\n",
        "plt.figure('solution')\n",
        "plt.plot(sol.t, sol.y[0])\n",
        "plt.xlabel('Time (s)')\n",
        "plt.ylabel('Position of first mass')\n",
        "\n",
        "# Find and plot spring strain for all springs over time\n",
        "x_arr, p_arr = jnp.split(sol.y, 2, axis=0)\n",
        "dx_arr = jnp.diff(x_arr, axis=0)\n",
        "\n",
        "UNIT, TIME = jnp.meshgrid(jnp.arange(N-1),sol.t)\n",
        "plt.figure('colorplot')\n",
        "plt.pcolor(UNIT, TIME ,jnp.transpose(dx_arr),cmap=plt.cm.jet)\n",
        "plt.xlabel(\"Unit index\")\n",
        "plt.ylabel(\"Time (s)\")\n",
        "cbar = plt.colorbar()\n",
        "cbar.set_label('Strain')"
      ],
      "execution_count": 11,
      "outputs": [
        {
          "output_type": "display_data",
          "data": {
            "image/png": "[encoded data removed]",
            "text/plain": [
              "<Figure size 432x288 with 1 Axes>"
            ]
          },
          "metadata": {
            "needs_background": "light"
          }
        },
        {
          "output_type": "display_data",
          "data": {
            "image/png": "[encoded data removed]",
            "text/plain": [
              "<Figure size 432x288 with 2 Axes>"
            ]
          },
          "metadata": {
            "needs_background": "light"
          }
        }
      ]
    },
    {
      "cell_type": "code",
      "metadata": {
        "colab": {
          "base_uri": "https://localhost:8080/",
          "height": 316
        },
        "id": "jHNGDVWhOhj4",
        "outputId": "01e29e40-e6ae-4886-e5de-89b6af1d1a8f"
      },
      "source": [
        "# Quality check: find and plot total energy over simulation time\n",
        "H_total = vmap(H, in_axes=(1,1,None))(x_arr, p_arr, params)\n",
        "\n",
        "plt.figure('H_over_time')\n",
        "plt.plot(sol.t, H_total)\n",
        "plt.xlabel('Time (s)')\n",
        "plt.ylabel('Energy')\n",
        "plt.ylim(0, 1.1*max(H_total))\n",
        "\n",
        "print('Maximum energy difference    = {0:.4e}'.format( (max(H_total)-min(H_total)) ))\n",
        "print('Maximum energy error         = {0:.4e}'.format( (max(H_total)-min(H_total))/jnp.mean(H_total) ))"
      ],
      "execution_count": 12,
      "outputs": [
        {
          "output_type": "stream",
          "name": "stdout",
          "text": [
            "Maximum energy difference    = 6.1095e-07\n",
            "Maximum energy error         = 2.4438e-06\n"
          ]
        },
        {
          "output_type": "display_data",
          "data": {
            "image/png": "[encoded data removed]",
            "text/plain": [
              "<Figure size 432x288 with 1 Axes>"
            ]
          },
          "metadata": {
            "needs_background": "light"
          }
        }
      ]
    },
    {
      "cell_type": "markdown",
      "metadata": {
        "id": "LO4kcX7qGBhQ"
      },
      "source": [
        "Note that energy drift (damping) is a side effect of the integration method used, though for this time span it is quite small."
      ]
    }
  ]
}